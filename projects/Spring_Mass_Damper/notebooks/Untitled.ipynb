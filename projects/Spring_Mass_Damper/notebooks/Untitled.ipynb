{
 "cells": [
  {
   "cell_type": "markdown",
   "id": "15c9feb7",
   "metadata": {},
   "source": [
    "# Classic spring-mass-damper system\n",
    "The spring-mass-damper system is a classic second-order differential equation that describes the dynamics of a mass attached to a spring and damper. The system can be represented by the following differential equation:\n",
    "\n",
    "\\begin{equation}\n",
    "m\\ddot{x}(t) + c\\dot{x}(t)+kx(t)=F(t)\n",
    "\\end{equation}\n",
    "where:\n",
    "* $m$ is the mass attached to the spring and damper.\n",
    "* $c$ is the damping coefficient.\n",
    "* $k$is the spring constant.\n",
    "* $x(t)$ is the displacement of the mass from its equilibrium position as a function of time.\n",
    "* $\\dot{x}(t)$ is the velocity of the mass (first derivative of displacement with respect to time).\n",
    "* $\\ddot{x}(t)$ is the acceleration of the mass (second derivative of displacement with respect to time).\n",
    "* $F(t)$ is the external force applied to the system.\n",
    "\n",
    "## Breaking down the equation\n",
    "1. **Mass Term**: $m\\ddot{x}(t)$\n",
    "    * This term represents the inertia of the mass. It resists changes in motion (acceleration).\n",
    "2. **Damping Term**: $c\\dot{x}(t)$\n",
    "    * The damping term is proportional to the velocity and opposes the motion. It models energy dissipation in the system (like friction).\n",
    "3. **Spring Term**: $kx(t)$\n",
    "    * The spring term is proportional to the displacement and acts to restore the mass to its equilibrium position.\n",
    "4. **External Force**: $F(t)$\n",
    "    * This is any external force acting on the system, which could be a function of time."
   ]
  },
  {
   "cell_type": "markdown",
   "id": "9b3c9fcc",
   "metadata": {},
   "source": [
    "## Defining initial conditions\n",
    "To solve this system, we need initial conditions such as:\n",
    "\\begin{equation}\n",
    "x(0) = x_0 \\\\\n",
    "\\dot{x}(0)=v_0\n",
    "\\end{equation}\n",
    "\n",
    "where $x_0$ is the initial displacement, and $v_0$ is the initial velocity."
   ]
  },
  {
   "cell_type": "markdown",
   "id": "02e32a96",
   "metadata": {},
   "source": [
    "# DeepXDE\n",
    "It is a framework for solving differential equations using neural networks."
   ]
  },
  {
   "cell_type": "code",
   "execution_count": null,
   "id": "d8851740",
   "metadata": {},
   "outputs": [],
   "source": []
  },
  {
   "cell_type": "markdown",
   "id": "47de6088",
   "metadata": {},
   "source": [
    "## Define the differential equation"
   ]
  },
  {
   "cell_type": "code",
   "execution_count": 14,
   "id": "87195d5c",
   "metadata": {},
   "outputs": [],
   "source": [
    "def ode_system(t, y):\n",
    "    \"\"\"\n",
    "    ODE system for the spring-mass-damper.\n",
    "    - y1 = x(t): Displacement\n",
    "    - y2 = v(t): Velocity\n",
    "    \"\"\"\n",
    "    x, v = y[:, 0:1], y[:, 1:2]  # Splitting the output y into x and v\n",
    "    dx_dt = v  # Velocity is the derivative of displacement\n",
    "    dv_dt = (-c * v - k * x + F(t)) / m  # Derived from Newton's second law\n",
    "    return [dx_dt, dv_dt]"
   ]
  },
  {
   "cell_type": "markdown",
   "id": "e7c6ac4d",
   "metadata": {},
   "source": [
    "## Define the geometry\n",
    "Define the time domain over which the equation has to be solved, e.g., from $t=0$ to $t=T$."
   ]
  },
  {
   "cell_type": "code",
   "execution_count": null,
   "id": "0a15c860",
   "metadata": {},
   "outputs": [],
   "source": [
    "T = \n",
    "geom = dde.geometry.TimeDomain(0, T)"
   ]
  },
  {
   "cell_type": "markdown",
   "id": "9674fb51",
   "metadata": {},
   "source": [
    "## Define initial conditions\n",
    "* Initial condition for Displacement: $x(0)=0$.\n",
    "* Initial condition for velocity: $v(0)=1$.\n",
    "* `component=0` refers to the first variable $x(t)$, and `component=1` refers to the second variable $v(t)$."
   ]
  },
  {
   "cell_type": "code",
   "execution_count": null,
   "id": "e52b0ee2",
   "metadata": {},
   "outputs": [],
   "source": [
    "ic1 = dde.icbc.IC(geom, lambda t: 0, lambda _, on_initial: on_initial, component=0)\n",
    "ic2 = dde.icbc.IC(geom, lambda t: 1, lambda _, on_initial: on_initial, component=1)"
   ]
  },
  {
   "cell_type": "markdown",
   "id": "b7262ca2",
   "metadata": {},
   "source": [
    "## Create the Data Object\n",
    "Combine the geometry, ODE system, and initial conditions into a `Data` object."
   ]
  },
  {
   "cell_type": "code",
   "execution_count": null,
   "id": "ea0709c2",
   "metadata": {},
   "outputs": [],
   "source": [
    "data = dde.data.PDE(geom, ode_system, [ic1, ic2], num_domain=1000, num_boundary=2)"
   ]
  },
  {
   "cell_type": "markdown",
   "id": "579cac1d",
   "metadata": {},
   "source": [
    "**Explanation**:\n",
    "* `geom`: The time domain over which the ODE is solved.\n",
    "* `ode_system`: The function defining the system of ODEs.\n",
    "* `[ic1, ic2]`: the list of inital conditions for displacement and velocity.\n",
    "* `num_domain=1000`: The number of collocation points in the domain.\n",
    "* `num_boundary=2`: The number of boundary points where the initial conditions are enforced."
   ]
  },
  {
   "cell_type": "markdown",
   "id": "fb468465",
   "metadata": {},
   "source": [
    "## Define the neural network model"
   ]
  },
  {
   "cell_type": "code",
   "execution_count": null,
   "id": "1422c273",
   "metadata": {},
   "outputs": [],
   "source": [
    "net = dde.nn.FNN([1] + [50] * 3 + [2], \"tanh\", \"Glorot uniform\")"
   ]
  },
  {
   "cell_type": "markdown",
   "id": "79c408a1",
   "metadata": {},
   "source": [
    "**Explanation**:\n",
    "* Network Structure:\n",
    "    * `[1]`: The input layer with one neuron (time $t$).\n",
    "    * `[50] * 3`: Three hidden layers with 50 neurons each.\n",
    "    * `[2]`: The output layer with two neurons (displacement $x(t)$ and velocity $v(t)$).\n",
    "* `tanh`: The activation function used in the hidden layers, which introduces non-linearity.\n",
    "* `Glorot unfirom`: The weight initializer that helps in efficient training by appropriately setting inital weights."
   ]
  },
  {
   "cell_type": "markdown",
   "id": "73687bbe",
   "metadata": {},
   "source": [
    "## Compile and Train the Model"
   ]
  },
  {
   "cell_type": "code",
   "execution_count": null,
   "id": "57a9b041",
   "metadata": {},
   "outputs": [],
   "source": [
    "model = dde.Model(data, net)\n",
    "model.compile(\"adam\", lr=0.001, metrics=[\"l2 relative error\"])\n",
    "losshistory, train_state = model.train(epochs=10000)"
   ]
  },
  {
   "cell_type": "markdown",
   "id": "c125a365",
   "metadata": {},
   "source": [
    "**Explanation**:\n",
    "* `Model(data, net)`: Combines the problem setup and the neural network into a model.\n",
    "* `compile(\"adam\", lr=0.001, metrics=[\"l2 relative error\"])`: Prepares the model for training using the Adam optimizer with a learning rate of 0.001. The `l2 relative error` metric is used to monitor the model's accuracy.\n",
    "* `train(epochs=10000)`: Trains the model for 10,000 epochs, iteratively adjusting the network's parameters to minimize the residuals of the ODEs."
   ]
  },
  {
   "cell_type": "markdown",
   "id": "1320397c",
   "metadata": {},
   "source": [
    "## Validate and plot results"
   ]
  },
  {
   "cell_type": "code",
   "execution_count": null,
   "id": "5dae8e11",
   "metadata": {},
   "outputs": [],
   "source": [
    "dde.saveplot(losshistory, train_state, issave=True, isplot=True)"
   ]
  }
 ],
 "metadata": {
  "kernelspec": {
   "display_name": "Python 3 (ipykernel)",
   "language": "python",
   "name": "python3"
  },
  "language_info": {
   "codemirror_mode": {
    "name": "ipython",
    "version": 3
   },
   "file_extension": ".py",
   "mimetype": "text/x-python",
   "name": "python",
   "nbconvert_exporter": "python",
   "pygments_lexer": "ipython3",
   "version": "3.11.4"
  }
 },
 "nbformat": 4,
 "nbformat_minor": 5
}
